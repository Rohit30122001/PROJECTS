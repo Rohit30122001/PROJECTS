{
 "cells": [
  {
   "cell_type": "code",
   "execution_count": 2,
   "id": "5032da4e",
   "metadata": {},
   "outputs": [
    {
     "name": "stdout",
     "output_type": "stream",
     "text": [
      "Collecting tqdm\n",
      "  Obtaining dependency information for tqdm from https://files.pythonhosted.org/packages/00/e5/f12a80907d0884e6dff9c16d0c0114d81b8cd07dc3ae54c5e962cc83037e/tqdm-4.66.1-py3-none-any.whl.metadata\n",
      "  Downloading tqdm-4.66.1-py3-none-any.whl.metadata (57 kB)\n",
      "     ---------------------------------------- 0.0/57.6 kB ? eta -:--:--\n",
      "     --------------------------- ---------- 41.0/57.6 kB 960.0 kB/s eta 0:00:01\n",
      "     ---------------------------------------- 57.6/57.6 kB 1.0 MB/s eta 0:00:00\n",
      "Requirement already satisfied: colorama in c:\\users\\ry363\\anaconda3\\envs\\gpu\\lib\\site-packages (from tqdm) (0.4.6)\n",
      "Downloading tqdm-4.66.1-py3-none-any.whl (78 kB)\n",
      "   ---------------------------------------- 0.0/78.3 kB ? eta -:--:--\n",
      "   --------------- ------------------------ 30.7/78.3 kB 1.3 MB/s eta 0:00:01\n",
      "   ---------------------------------------- 78.3/78.3 kB 1.1 MB/s eta 0:00:00\n",
      "Installing collected packages: tqdm\n",
      "Successfully installed tqdm-4.66.1\n",
      "Note: you may need to restart the kernel to use updated packages.\n"
     ]
    }
   ],
   "source": [
    "pip install tqdm"
   ]
  },
  {
   "cell_type": "code",
   "execution_count": 3,
   "id": "c3107cb0",
   "metadata": {},
   "outputs": [],
   "source": [
    "import os\n",
    "import shutil\n",
    "import glob\n",
    "from tqdm import tqdm"
   ]
  },
  {
   "cell_type": "code",
   "execution_count": 4,
   "id": "2142712b",
   "metadata": {},
   "outputs": [
    {
     "name": "stderr",
     "output_type": "stream",
     "text": [
      "0it [00:00, ?it/s]\n",
      "100%|██████████| 3242/3242 [00:21<00:00, 151.58it/s]\n",
      "100%|██████████| 1114/1114 [00:06<00:00, 169.26it/s]\n",
      "100%|██████████| 679/679 [00:03<00:00, 183.07it/s]\n",
      "100%|██████████| 1069/1069 [00:05<00:00, 186.76it/s]\n",
      "100%|██████████| 736/736 [00:04<00:00, 180.40it/s]\n",
      "100%|██████████| 1012/1012 [00:05<00:00, 180.96it/s]\n",
      "100%|██████████| 624/624 [00:03<00:00, 185.76it/s]\n",
      "100%|██████████| 832/832 [00:04<00:00, 181.62it/s]\n",
      "100%|██████████| 387/387 [00:02<00:00, 186.43it/s]\n",
      "100%|██████████| 399/399 [00:02<00:00, 181.16it/s]\n",
      "100%|██████████| 1648/1648 [00:09<00:00, 179.63it/s]\n",
      "100%|██████████| 8728/8728 [00:50<00:00, 173.55it/s]\n",
      "100%|██████████| 3605/3605 [00:21<00:00, 165.45it/s]\n",
      "100%|██████████| 8884/8884 [00:52<00:00, 169.65it/s]\n",
      "100%|██████████| 1132/1132 [00:06<00:00, 183.53it/s]\n",
      "100%|██████████| 1889/1889 [00:10<00:00, 175.09it/s]\n",
      "100%|██████████| 1648/1648 [00:08<00:00, 184.79it/s]\n",
      "100%|██████████| 4410/4410 [00:23<00:00, 186.09it/s]\n",
      "100%|██████████| 6175/6175 [00:33<00:00, 183.45it/s]\n",
      "100%|██████████| 704/704 [00:03<00:00, 180.87it/s]\n",
      "100%|██████████| 987/987 [00:05<00:00, 181.30it/s]\n",
      "100%|██████████| 382/382 [00:02<00:00, 184.76it/s]\n",
      "100%|██████████| 522/522 [00:02<00:00, 181.16it/s]\n",
      "100%|██████████| 752/752 [00:04<00:00, 180.73it/s]\n",
      "100%|██████████| 1502/1502 [00:08<00:00, 179.40it/s]\n",
      "100%|██████████| 1246/1246 [00:06<00:00, 179.87it/s]\n",
      "100%|██████████| 665/665 [00:03<00:00, 180.50it/s]\n",
      "100%|██████████| 736/736 [00:04<00:00, 177.29it/s]\n",
      "100%|██████████| 1393/1393 [00:07<00:00, 183.98it/s]\n",
      "100%|██████████| 1384/1384 [00:07<00:00, 180.76it/s]\n",
      "100%|██████████| 1738/1738 [00:09<00:00, 187.24it/s]\n",
      "100%|██████████| 6162/6162 [00:32<00:00, 188.24it/s]\n",
      "100%|██████████| 681/681 [00:03<00:00, 181.75it/s]\n",
      "100%|██████████| 739/739 [00:04<00:00, 182.10it/s]\n",
      "100%|██████████| 642/642 [00:03<00:00, 183.57it/s]\n",
      "100%|██████████| 6193/6193 [00:33<00:00, 182.17it/s]\n",
      "100%|██████████| 10257/10257 [00:58<00:00, 176.83it/s]\n"
     ]
    }
   ],
   "source": [
    "RAW_DIR = r'D:\\DATASET\\mrlEyes_2018_01'\n",
    "for dirpath,dirname,filenames in os.walk(RAW_DIR):\n",
    "    for i in tqdm([f for f in filenames if f.endswith('.png')]):\n",
    "        if i.split('_')[4] == '0':\n",
    "            shutil.copy(src = dirpath + '/' + i,dst=r'D:\\DATASET\\Prepared Data\\Closed Eyes')\n",
    "        elif i.split('_')[4] == '1':\n",
    "            shutil.copy(src = dirpath + '/' + i,dst = r'D:\\DATASET\\Prepared Data\\Open Eyes')"
   ]
  },
  {
   "cell_type": "code",
   "execution_count": null,
   "id": "c2c0847d",
   "metadata": {},
   "outputs": [],
   "source": []
  }
 ],
 "metadata": {
  "kernelspec": {
   "display_name": "Python 3 (ipykernel)",
   "language": "python",
   "name": "python3"
  },
  "language_info": {
   "codemirror_mode": {
    "name": "ipython",
    "version": 3
   },
   "file_extension": ".py",
   "mimetype": "text/x-python",
   "name": "python",
   "nbconvert_exporter": "python",
   "pygments_lexer": "ipython3",
   "version": "3.9.17"
  }
 },
 "nbformat": 4,
 "nbformat_minor": 5
}
